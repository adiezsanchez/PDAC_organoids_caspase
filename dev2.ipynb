{
 "cells": [
  {
   "cell_type": "code",
   "execution_count": 1,
   "metadata": {},
   "outputs": [
    {
     "name": "stderr",
     "output_type": "stream",
     "text": [
      "c:\\Users\\albertds\\mambaforge\\envs\\microglia\\lib\\site-packages\\pyclesperanto_prototype\\_tier0\\_device.py:77: UserWarning: No OpenCL device found with RTX in their name. Using Intel(R) UHD Graphics 630 instead.\n",
      "  warnings.warn(f\"No OpenCL device found with {name} in their name. Using {device.name} instead.\")\n"
     ]
    },
    {
     "data": {
      "text/plain": [
       "<Intel(R) UHD Graphics 630 on Platform: Intel(R) OpenCL HD Graphics (1 refs)>"
      ]
     },
     "execution_count": 1,
     "metadata": {},
     "output_type": "execute_result"
    }
   ],
   "source": [
    "from pathlib import Path\n",
    "import czifile\n",
    "import napari\n",
    "import numpy as np\n",
    "import skimage\n",
    "from skimage import measure, exposure\n",
    "from skimage.measure import regionprops_table\n",
    "from cellpose import models\n",
    "import pandas as pd\n",
    "import pyclesperanto_prototype as cle\n",
    "import matplotlib.pyplot as plt\n",
    "import gc\n",
    "\n",
    "# Select a GPU with the following in the name. This will fallback to any other GPU if none with this name is found\n",
    "cle.select_device(\"RTX\")"
   ]
  },
  {
   "cell_type": "code",
   "execution_count": 2,
   "metadata": {},
   "outputs": [
    {
     "data": {
      "text/plain": [
       "['raw_data\\\\well 1.czi',\n",
       " 'raw_data\\\\well 10.czi',\n",
       " 'raw_data\\\\well 11.czi',\n",
       " 'raw_data\\\\well 12.czi',\n",
       " 'raw_data\\\\well 13.czi',\n",
       " 'raw_data\\\\well 14.czi',\n",
       " 'raw_data\\\\well 15.czi',\n",
       " 'raw_data\\\\well 2.czi',\n",
       " 'raw_data\\\\well 3.czi',\n",
       " 'raw_data\\\\well 4.czi',\n",
       " 'raw_data\\\\well 5.czi',\n",
       " 'raw_data\\\\well 6.czi',\n",
       " 'raw_data\\\\well 7.czi',\n",
       " 'raw_data\\\\well 8.czi',\n",
       " 'raw_data\\\\well 9.czi']"
      ]
     },
     "execution_count": 2,
     "metadata": {},
     "output_type": "execute_result"
    }
   ],
   "source": [
    "directory_path = Path(\"./raw_data/\")\n",
    "images = []\n",
    "\n",
    "# Iterate through the lsm files in the directory\n",
    "for file_path in directory_path.glob(\"*.czi\"):\n",
    "    images.append(str(file_path))\n",
    "    \n",
    "images"
   ]
  },
  {
   "cell_type": "code",
   "execution_count": 3,
   "metadata": {},
   "outputs": [
    {
     "data": {
      "text/plain": [
       "24039"
      ]
     },
     "execution_count": 3,
     "metadata": {},
     "output_type": "execute_result"
    }
   ],
   "source": [
    "image = images[0]\n",
    "\n",
    "# Extract filename and well_id\n",
    "file_path = Path(image)\n",
    "filename = file_path.stem\n",
    "well_id = filename.split(\" \")[1]\n",
    "\n",
    "# Read the image file and remove singleton dimensions\n",
    "img = czifile.imread(image)\n",
    "img = img.squeeze()\n",
    "\n",
    "# Image size reduction to improve processing times (slicing, not lossless compression)\n",
    "slicing_factor = 4 # Use 2 or 4 for compression (None for lossless)\n",
    "\n",
    "# Extract the stack containing the nuclei (0), dna_damage (1) and microglia channel (2)\n",
    "ki67_stack = img[0, :, ::slicing_factor, ::slicing_factor]\n",
    "nuclei_stack = img[2, :, ::slicing_factor, ::slicing_factor]\n",
    "caspase_stack = img[3, :, ::slicing_factor, ::slicing_factor]\n",
    "\n",
    "# Perform maximum intensity projections\n",
    "ki67_mip = np.max(ki67_stack, axis = 0)\n",
    "nuclei_mip = np.max(nuclei_stack, axis = 0)\n",
    "caspase_mip = np.max(caspase_stack, axis = 0)\n",
    "\n",
    "# Free up memory by deleting the img variable\n",
    "del img\n",
    "# Call the garbage collector\n",
    "gc.collect()"
   ]
  },
  {
   "cell_type": "code",
   "execution_count": 4,
   "metadata": {},
   "outputs": [
    {
     "name": "stdout",
     "output_type": "stream",
     "text": [
      "0.5 0.5 5.166666666666666\n"
     ]
    }
   ],
   "source": [
    "#TODO: Make 3D stack isotropic\n",
    "\n",
    "# Voxel size from .czi file metadata\n",
    "input_image = nuclei_stack\n",
    "\n",
    "voxel_size_x = 0.21\n",
    "voxel_size_y = 0.21\n",
    "voxel_size_z = 2.17\n",
    "\n",
    "# Adjust so voxel size_x and size_y so they are equal to 1 to avoid compression upon rescaling\n",
    "\n",
    "multiplier = 0.5 / voxel_size_x\n",
    "\n",
    "voxel_size_x = voxel_size_x * multiplier\n",
    "voxel_size_y = voxel_size_y * multiplier\n",
    "voxel_size_z = voxel_size_z * multiplier\n",
    "\n",
    "print(voxel_size_x, voxel_size_y, voxel_size_z)"
   ]
  },
  {
   "cell_type": "code",
   "execution_count": 5,
   "metadata": {},
   "outputs": [],
   "source": [
    "resampled = cle.scale(input_image, factor_x=voxel_size_x, factor_y=voxel_size_y, factor_z=voxel_size_z, auto_size=True)\n",
    "background_subtracted = cle.top_hat_box(resampled, radius_x=5, radius_y=5, radius_z=5)\n",
    "segmented = cle.voronoi_otsu_labeling(background_subtracted, spot_sigma=3, outline_sigma=1)\n",
    "resampled_ki67 = cle.scale(ki67_stack, factor_x=voxel_size_x, factor_y=voxel_size_y, factor_z=voxel_size_z, auto_size=True)\n"
   ]
  },
  {
   "cell_type": "code",
   "execution_count": 6,
   "metadata": {},
   "outputs": [],
   "source": [
    "resampled = cle.pull(resampled).astype(np.uint16)\n",
    "resampled_ki67 = cle.pull(resampled_ki67).astype(np.uint16)\n",
    "\n",
    "# Extract regionprops\n",
    "props = regionprops_table(label_image=resampled, intensity_image=resampled_ki67, properties=[\"label\", \"intensity_mean\", \"intensity_max\", \"centroid\", \"area_filled\", \"perimeter\"])\n",
    "\n",
    "# Construct a dataframe\n",
    "df = pd.DataFrame(props)\n",
    "\n",
    "df"
   ]
  },
  {
   "cell_type": "code",
   "execution_count": null,
   "metadata": {},
   "outputs": [],
   "source": [
    "np.unique(resampled)"
   ]
  },
  {
   "cell_type": "code",
   "execution_count": null,
   "metadata": {},
   "outputs": [],
   "source": []
  }
 ],
 "metadata": {
  "kernelspec": {
   "display_name": "microglia",
   "language": "python",
   "name": "python3"
  },
  "language_info": {
   "codemirror_mode": {
    "name": "ipython",
    "version": 3
   },
   "file_extension": ".py",
   "mimetype": "text/x-python",
   "name": "python",
   "nbconvert_exporter": "python",
   "pygments_lexer": "ipython3",
   "version": "3.9.18"
  }
 },
 "nbformat": 4,
 "nbformat_minor": 2
}
