{
 "cells": [
  {
   "cell_type": "code",
   "execution_count": 39,
   "metadata": {},
   "outputs": [],
   "source": [
    "from pathlib import Path\n",
    "import czifile\n",
    "import numpy as np\n",
    "import napari\n",
    "import napari_segment_blobs_and_things_with_membranes as nsbatwm  # version 0.3.7\n",
    "import pyclesperanto_prototype as cle\n",
    "import skimage\n",
    "from skimage import measure, exposure"
   ]
  },
  {
   "cell_type": "code",
   "execution_count": 40,
   "metadata": {},
   "outputs": [
    {
     "data": {
      "text/plain": [
       "['raw_data\\\\well 1.czi',\n",
       " 'raw_data\\\\well 10.czi',\n",
       " 'raw_data\\\\well 11.czi',\n",
       " 'raw_data\\\\well 12.czi',\n",
       " 'raw_data\\\\well 13.czi',\n",
       " 'raw_data\\\\well 14.czi',\n",
       " 'raw_data\\\\well 15.czi',\n",
       " 'raw_data\\\\well 2.czi',\n",
       " 'raw_data\\\\well 3.czi',\n",
       " 'raw_data\\\\well 4.czi',\n",
       " 'raw_data\\\\well 5.czi',\n",
       " 'raw_data\\\\well 6.czi',\n",
       " 'raw_data\\\\well 7.czi',\n",
       " 'raw_data\\\\well 8.czi',\n",
       " 'raw_data\\\\well 9.czi']"
      ]
     },
     "execution_count": 40,
     "metadata": {},
     "output_type": "execute_result"
    }
   ],
   "source": [
    "directory_path = Path(\"./raw_data/\")\n",
    "images = []\n",
    "\n",
    "# Iterate through the lsm files in the directory\n",
    "for file_path in directory_path.glob(\"*.czi\"):\n",
    "    images.append(str(file_path))\n",
    "    \n",
    "images"
   ]
  },
  {
   "cell_type": "code",
   "execution_count": 41,
   "metadata": {},
   "outputs": [],
   "source": [
    "image = images[12]\n",
    "\n",
    "# Extract filename and well_id\n",
    "file_path = Path(image)\n",
    "filename = file_path.stem\n",
    "well_id = filename.split(\" \")[1]\n",
    "\n",
    "# Read the image file and remove singleton dimensions\n",
    "img = czifile.imread(image)\n",
    "img = img.squeeze()\n",
    "\n",
    "# Image size reduction to improve processing times (slicing, not lossless compression)\n",
    "slicing_factor = 4 # Use 2 or 4 for compression (None for lossless)\n",
    "\n",
    "# Extract the stack containing the nuclei (2) and caspase channel (3)\n",
    "nuclei_stack = img[2, :, ::slicing_factor, ::slicing_factor]\n",
    "caspase_stack = img[3, :, ::slicing_factor, ::slicing_factor]\n",
    "\n",
    "# Perform maximum intensity projections\n",
    "nuclei_mip = np.max(nuclei_stack, axis = 0)\n",
    "caspase_mip = np.max(caspase_stack, axis = 0)"
   ]
  },
  {
   "cell_type": "code",
   "execution_count": 42,
   "metadata": {},
   "outputs": [
    {
     "data": {
      "text/plain": [
       "<Image layer 'caspase_mip' at 0x25166349310>"
      ]
     },
     "execution_count": 42,
     "metadata": {},
     "output_type": "execute_result"
    }
   ],
   "source": [
    "viewer = napari.Viewer(ndisplay=2)\n",
    "viewer.add_image(nuclei_mip)\n",
    "viewer.add_image(caspase_mip)"
   ]
  },
  {
   "cell_type": "code",
   "execution_count": 43,
   "metadata": {},
   "outputs": [
    {
     "data": {
      "text/plain": [
       "<Image layer 'Result of contast stretching' at 0x2515ffef4f0>"
      ]
     },
     "execution_count": 43,
     "metadata": {},
     "output_type": "execute_result"
    }
   ],
   "source": [
    "# Perform Gaussian Blur over nuclei_mip to get the outlines of the organoid shapes\n",
    "\n",
    "gaussian_sigma_nuclei = 15\n",
    "\n",
    "post_gaussian_img = skimage.filters.gaussian(nuclei_mip, sigma=gaussian_sigma_nuclei)\n",
    "viewer.add_image(post_gaussian_img, name='Result of gaussian_blur')\n",
    "\n",
    "# Apply Contrast Stretching to improve detection upon binarization\n",
    "p2, p98 = np.percentile(post_gaussian_img, (2, 98))\n",
    "img_rescale = exposure.rescale_intensity(post_gaussian_img, in_range=(p2, p98))\n",
    "viewer.add_image(img_rescale, name='Result of contast stretching')\n",
    "\n",
    "\n",
    "# Apply Otsu Thresholding to segment the organoid mask \n",
    "\n",
    "# organoid_mask = nsbatwm.threshold_otsu(img_rescale)\n",
    "# viewer.add_labels(organoid_mask, name='Result of threshold_otsu')\n",
    "\n",
    "\n"
   ]
  },
  {
   "cell_type": "code",
   "execution_count": 44,
   "metadata": {},
   "outputs": [
    {
     "data": {
      "text/plain": [
       "<Labels layer 'Result of threshold' at 0x251621fd6a0>"
      ]
     },
     "execution_count": 44,
     "metadata": {},
     "output_type": "execute_result"
    }
   ],
   "source": [
    "organoid_mask = img_rescale > 0.2\n",
    "viewer.add_labels(organoid_mask, name='Result of threshold')"
   ]
  },
  {
   "cell_type": "code",
   "execution_count": 45,
   "metadata": {},
   "outputs": [
    {
     "data": {
      "text/plain": [
       "<Labels layer 'Result of caspase threshold' at 0x251651c9df0>"
      ]
     },
     "execution_count": 45,
     "metadata": {},
     "output_type": "execute_result"
    }
   ],
   "source": [
    "post_mean_filter_caspase = None\n",
    "post_mean_filter_caspase = cle.mean_box(caspase_mip, post_mean_filter_caspase, 2, 2, 0)\n",
    "viewer.add_image(post_mean_filter_caspase, name='Result of box mean filter')\n",
    "post_mean_filter_caspase = cle.pull(post_mean_filter_caspase)\n",
    "\n",
    "caspase_mask = post_mean_filter_caspase > 15\n",
    "viewer.add_labels(caspase_mask, name='Result of caspase threshold')"
   ]
  },
  {
   "cell_type": "code",
   "execution_count": 50,
   "metadata": {},
   "outputs": [],
   "source": [
    "caspase_pos_area = (caspase_mask == 1) & (organoid_mask == 1)"
   ]
  },
  {
   "cell_type": "code",
   "execution_count": 51,
   "metadata": {},
   "outputs": [
    {
     "data": {
      "text/plain": [
       "<Labels layer 'Result of caspase + area' at 0x2516d954460>"
      ]
     },
     "execution_count": 51,
     "metadata": {},
     "output_type": "execute_result"
    }
   ],
   "source": [
    "viewer.add_labels(caspase_pos_area, name='Result of caspase + area')"
   ]
  }
 ],
 "metadata": {
  "kernelspec": {
   "display_name": "microglia",
   "language": "python",
   "name": "python3"
  },
  "language_info": {
   "codemirror_mode": {
    "name": "ipython",
    "version": 3
   },
   "file_extension": ".py",
   "mimetype": "text/x-python",
   "name": "python",
   "nbconvert_exporter": "python",
   "pygments_lexer": "ipython3",
   "version": "3.9.18"
  }
 },
 "nbformat": 4,
 "nbformat_minor": 2
}
